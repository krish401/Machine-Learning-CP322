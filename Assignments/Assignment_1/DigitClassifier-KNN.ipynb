{
 "cells": [
  {
   "cell_type": "code",
   "execution_count": 81,
   "metadata": {},
   "outputs": [],
   "source": [
    "import pandas as pd\n",
    "import numpy as np\n",
    "from collections import Counter\n",
    "from sklearn.model_selection import KFold\n",
    "import matplotlib.pyplot as plt"
   ]
  },
  {
   "cell_type": "code",
   "execution_count": 82,
   "metadata": {},
   "outputs": [
    {
     "data": {
      "text/html": [
       "<div>\n",
       "<style scoped>\n",
       "    .dataframe tbody tr th:only-of-type {\n",
       "        vertical-align: middle;\n",
       "    }\n",
       "\n",
       "    .dataframe tbody tr th {\n",
       "        vertical-align: top;\n",
       "    }\n",
       "\n",
       "    .dataframe thead th {\n",
       "        text-align: right;\n",
       "    }\n",
       "</style>\n",
       "<table border=\"1\" class=\"dataframe\">\n",
       "  <thead>\n",
       "    <tr style=\"text-align: right;\">\n",
       "      <th></th>\n",
       "      <th>0.000000000000000000e+00</th>\n",
       "      <th>0.000000000000000000e+00.1</th>\n",
       "      <th>1.000000000000000000e+01</th>\n",
       "      <th>0.000000000000000000e+00.2</th>\n",
       "      <th>1.400000000000000000e+01</th>\n",
       "      <th>2.000000000000000000e+00</th>\n",
       "      <th>0.000000000000000000e+00.3</th>\n",
       "      <th>0.000000000000000000e+00.4</th>\n",
       "      <th>4.000000000000000000e+00</th>\n",
       "      <th>2.000000000000000000e+00.1</th>\n",
       "      <th>...</th>\n",
       "      <th>0.000000000000000000e+00.24</th>\n",
       "      <th>0.000000000000000000e+00.25</th>\n",
       "      <th>0.000000000000000000e+00.26</th>\n",
       "      <th>2.000000000000000000e+00.9</th>\n",
       "      <th>2.000000000000000000e+00.10</th>\n",
       "      <th>0.000000000000000000e+00.27</th>\n",
       "      <th>3.000000000000000000e+00.1</th>\n",
       "      <th>7.000000000000000000e+00.1</th>\n",
       "      <th>2.000000000000000000e+00.11</th>\n",
       "      <th>2.000000000000000000e+00.12</th>\n",
       "    </tr>\n",
       "  </thead>\n",
       "  <tbody>\n",
       "    <tr>\n",
       "      <th>0</th>\n",
       "      <td>0.0</td>\n",
       "      <td>0.0</td>\n",
       "      <td>9.0</td>\n",
       "      <td>16.0</td>\n",
       "      <td>16.0</td>\n",
       "      <td>16.0</td>\n",
       "      <td>0.0</td>\n",
       "      <td>1.0</td>\n",
       "      <td>0.0</td>\n",
       "      <td>0.0</td>\n",
       "      <td>...</td>\n",
       "      <td>4.0</td>\n",
       "      <td>0.0</td>\n",
       "      <td>4.0</td>\n",
       "      <td>0.0</td>\n",
       "      <td>14.0</td>\n",
       "      <td>13.0</td>\n",
       "      <td>9.0</td>\n",
       "      <td>4.0</td>\n",
       "      <td>0.0</td>\n",
       "      <td>14.0</td>\n",
       "    </tr>\n",
       "    <tr>\n",
       "      <th>1</th>\n",
       "      <td>10.0</td>\n",
       "      <td>15.0</td>\n",
       "      <td>16.0</td>\n",
       "      <td>10.0</td>\n",
       "      <td>16.0</td>\n",
       "      <td>16.0</td>\n",
       "      <td>0.0</td>\n",
       "      <td>1.0</td>\n",
       "      <td>16.0</td>\n",
       "      <td>12.0</td>\n",
       "      <td>...</td>\n",
       "      <td>16.0</td>\n",
       "      <td>16.0</td>\n",
       "      <td>1.0</td>\n",
       "      <td>16.0</td>\n",
       "      <td>16.0</td>\n",
       "      <td>7.0</td>\n",
       "      <td>14.0</td>\n",
       "      <td>14.0</td>\n",
       "      <td>16.0</td>\n",
       "      <td>1.0</td>\n",
       "    </tr>\n",
       "    <tr>\n",
       "      <th>2</th>\n",
       "      <td>1.0</td>\n",
       "      <td>2.0</td>\n",
       "      <td>0.0</td>\n",
       "      <td>6.0</td>\n",
       "      <td>0.0</td>\n",
       "      <td>2.0</td>\n",
       "      <td>1.0</td>\n",
       "      <td>0.0</td>\n",
       "      <td>0.0</td>\n",
       "      <td>0.0</td>\n",
       "      <td>...</td>\n",
       "      <td>2.0</td>\n",
       "      <td>0.0</td>\n",
       "      <td>0.0</td>\n",
       "      <td>0.0</td>\n",
       "      <td>1.0</td>\n",
       "      <td>1.0</td>\n",
       "      <td>0.0</td>\n",
       "      <td>0.0</td>\n",
       "      <td>2.0</td>\n",
       "      <td>0.0</td>\n",
       "    </tr>\n",
       "    <tr>\n",
       "      <th>3</th>\n",
       "      <td>2.0</td>\n",
       "      <td>7.0</td>\n",
       "      <td>0.0</td>\n",
       "      <td>14.0</td>\n",
       "      <td>16.0</td>\n",
       "      <td>0.0</td>\n",
       "      <td>0.0</td>\n",
       "      <td>1.0</td>\n",
       "      <td>0.0</td>\n",
       "      <td>1.0</td>\n",
       "      <td>...</td>\n",
       "      <td>15.0</td>\n",
       "      <td>0.0</td>\n",
       "      <td>0.0</td>\n",
       "      <td>3.0</td>\n",
       "      <td>1.0</td>\n",
       "      <td>7.0</td>\n",
       "      <td>0.0</td>\n",
       "      <td>8.0</td>\n",
       "      <td>0.0</td>\n",
       "      <td>1.0</td>\n",
       "    </tr>\n",
       "    <tr>\n",
       "      <th>4</th>\n",
       "      <td>2.0</td>\n",
       "      <td>0.0</td>\n",
       "      <td>0.0</td>\n",
       "      <td>12.0</td>\n",
       "      <td>12.0</td>\n",
       "      <td>2.0</td>\n",
       "      <td>0.0</td>\n",
       "      <td>0.0</td>\n",
       "      <td>1.0</td>\n",
       "      <td>3.0</td>\n",
       "      <td>...</td>\n",
       "      <td>1.0</td>\n",
       "      <td>0.0</td>\n",
       "      <td>0.0</td>\n",
       "      <td>0.0</td>\n",
       "      <td>1.0</td>\n",
       "      <td>15.0</td>\n",
       "      <td>14.0</td>\n",
       "      <td>15.0</td>\n",
       "      <td>15.0</td>\n",
       "      <td>0.0</td>\n",
       "    </tr>\n",
       "  </tbody>\n",
       "</table>\n",
       "<p>5 rows × 64 columns</p>\n",
       "</div>"
      ],
      "text/plain": [
       "   0.000000000000000000e+00  0.000000000000000000e+00.1  \\\n",
       "0                       0.0                         0.0   \n",
       "1                      10.0                        15.0   \n",
       "2                       1.0                         2.0   \n",
       "3                       2.0                         7.0   \n",
       "4                       2.0                         0.0   \n",
       "\n",
       "   1.000000000000000000e+01  0.000000000000000000e+00.2  \\\n",
       "0                       9.0                        16.0   \n",
       "1                      16.0                        10.0   \n",
       "2                       0.0                         6.0   \n",
       "3                       0.0                        14.0   \n",
       "4                       0.0                        12.0   \n",
       "\n",
       "   1.400000000000000000e+01  2.000000000000000000e+00  \\\n",
       "0                      16.0                      16.0   \n",
       "1                      16.0                      16.0   \n",
       "2                       0.0                       2.0   \n",
       "3                      16.0                       0.0   \n",
       "4                      12.0                       2.0   \n",
       "\n",
       "   0.000000000000000000e+00.3  0.000000000000000000e+00.4  \\\n",
       "0                         0.0                         1.0   \n",
       "1                         0.0                         1.0   \n",
       "2                         1.0                         0.0   \n",
       "3                         0.0                         1.0   \n",
       "4                         0.0                         0.0   \n",
       "\n",
       "   4.000000000000000000e+00  2.000000000000000000e+00.1  ...  \\\n",
       "0                       0.0                         0.0  ...   \n",
       "1                      16.0                        12.0  ...   \n",
       "2                       0.0                         0.0  ...   \n",
       "3                       0.0                         1.0  ...   \n",
       "4                       1.0                         3.0  ...   \n",
       "\n",
       "   0.000000000000000000e+00.24  0.000000000000000000e+00.25  \\\n",
       "0                          4.0                          0.0   \n",
       "1                         16.0                         16.0   \n",
       "2                          2.0                          0.0   \n",
       "3                         15.0                          0.0   \n",
       "4                          1.0                          0.0   \n",
       "\n",
       "   0.000000000000000000e+00.26  2.000000000000000000e+00.9  \\\n",
       "0                          4.0                         0.0   \n",
       "1                          1.0                        16.0   \n",
       "2                          0.0                         0.0   \n",
       "3                          0.0                         3.0   \n",
       "4                          0.0                         0.0   \n",
       "\n",
       "   2.000000000000000000e+00.10  0.000000000000000000e+00.27  \\\n",
       "0                         14.0                         13.0   \n",
       "1                         16.0                          7.0   \n",
       "2                          1.0                          1.0   \n",
       "3                          1.0                          7.0   \n",
       "4                          1.0                         15.0   \n",
       "\n",
       "   3.000000000000000000e+00.1  7.000000000000000000e+00.1  \\\n",
       "0                         9.0                         4.0   \n",
       "1                        14.0                        14.0   \n",
       "2                         0.0                         0.0   \n",
       "3                         0.0                         8.0   \n",
       "4                        14.0                        15.0   \n",
       "\n",
       "   2.000000000000000000e+00.11  2.000000000000000000e+00.12  \n",
       "0                          0.0                         14.0  \n",
       "1                         16.0                          1.0  \n",
       "2                          2.0                          0.0  \n",
       "3                          0.0                          1.0  \n",
       "4                         15.0                          0.0  \n",
       "\n",
       "[5 rows x 64 columns]"
      ]
     },
     "execution_count": 82,
     "metadata": {},
     "output_type": "execute_result"
    }
   ],
   "source": [
    "# Get the training features (X)\n",
    "df_features_train = pd.read_csv(\"./files/train_inputs.csv\")\n",
    "df_features_train.head()"
   ]
  },
  {
   "cell_type": "code",
   "execution_count": 83,
   "metadata": {},
   "outputs": [
    {
     "data": {
      "text/html": [
       "<div>\n",
       "<style scoped>\n",
       "    .dataframe tbody tr th:only-of-type {\n",
       "        vertical-align: middle;\n",
       "    }\n",
       "\n",
       "    .dataframe tbody tr th {\n",
       "        vertical-align: top;\n",
       "    }\n",
       "\n",
       "    .dataframe thead th {\n",
       "        text-align: right;\n",
       "    }\n",
       "</style>\n",
       "<table border=\"1\" class=\"dataframe\">\n",
       "  <thead>\n",
       "    <tr style=\"text-align: right;\">\n",
       "      <th></th>\n",
       "      <th>6.000000000000000000e+00</th>\n",
       "    </tr>\n",
       "  </thead>\n",
       "  <tbody>\n",
       "    <tr>\n",
       "      <th>0</th>\n",
       "      <td>5.0</td>\n",
       "    </tr>\n",
       "    <tr>\n",
       "      <th>1</th>\n",
       "      <td>6.0</td>\n",
       "    </tr>\n",
       "    <tr>\n",
       "      <th>2</th>\n",
       "      <td>5.0</td>\n",
       "    </tr>\n",
       "    <tr>\n",
       "      <th>3</th>\n",
       "      <td>6.0</td>\n",
       "    </tr>\n",
       "    <tr>\n",
       "      <th>4</th>\n",
       "      <td>6.0</td>\n",
       "    </tr>\n",
       "  </tbody>\n",
       "</table>\n",
       "</div>"
      ],
      "text/plain": [
       "   6.000000000000000000e+00\n",
       "0                       5.0\n",
       "1                       6.0\n",
       "2                       5.0\n",
       "3                       6.0\n",
       "4                       6.0"
      ]
     },
     "execution_count": 83,
     "metadata": {},
     "output_type": "execute_result"
    }
   ],
   "source": [
    "# get the training target (Y)\n",
    "df_target_train = pd.read_csv(\"./files/train_labels.csv\")\n",
    "df_target_train.head()"
   ]
  },
  {
   "cell_type": "code",
   "execution_count": 84,
   "metadata": {},
   "outputs": [
    {
     "data": {
      "text/html": [
       "<div>\n",
       "<style scoped>\n",
       "    .dataframe tbody tr th:only-of-type {\n",
       "        vertical-align: middle;\n",
       "    }\n",
       "\n",
       "    .dataframe tbody tr th {\n",
       "        vertical-align: top;\n",
       "    }\n",
       "\n",
       "    .dataframe thead th {\n",
       "        text-align: right;\n",
       "    }\n",
       "</style>\n",
       "<table border=\"1\" class=\"dataframe\">\n",
       "  <thead>\n",
       "    <tr style=\"text-align: right;\">\n",
       "      <th></th>\n",
       "      <th>1.000000000000000000e+00</th>\n",
       "      <th>1.000000000000000000e+00.1</th>\n",
       "      <th>0.000000000000000000e+00</th>\n",
       "      <th>3.000000000000000000e+00</th>\n",
       "      <th>1.200000000000000000e+01</th>\n",
       "      <th>1.200000000000000000e+01.1</th>\n",
       "      <th>2.000000000000000000e+00</th>\n",
       "      <th>1.000000000000000000e+00.2</th>\n",
       "      <th>2.000000000000000000e+00.1</th>\n",
       "      <th>8.000000000000000000e+00</th>\n",
       "      <th>...</th>\n",
       "      <th>1.600000000000000000e+01</th>\n",
       "      <th>0.000000000000000000e+00.10</th>\n",
       "      <th>1.000000000000000000e+00.6</th>\n",
       "      <th>0.000000000000000000e+00.11</th>\n",
       "      <th>4.000000000000000000e+00.5</th>\n",
       "      <th>0.000000000000000000e+00.12</th>\n",
       "      <th>1.300000000000000000e+01.1</th>\n",
       "      <th>1.000000000000000000e+00.7</th>\n",
       "      <th>1.300000000000000000e+01.2</th>\n",
       "      <th>0.000000000000000000e+00.13</th>\n",
       "    </tr>\n",
       "  </thead>\n",
       "  <tbody>\n",
       "    <tr>\n",
       "      <th>0</th>\n",
       "      <td>2.0</td>\n",
       "      <td>2.0</td>\n",
       "      <td>2.0</td>\n",
       "      <td>1.0</td>\n",
       "      <td>2.0</td>\n",
       "      <td>8.0</td>\n",
       "      <td>0.0</td>\n",
       "      <td>2.0</td>\n",
       "      <td>0.0</td>\n",
       "      <td>1.0</td>\n",
       "      <td>...</td>\n",
       "      <td>15.0</td>\n",
       "      <td>2.0</td>\n",
       "      <td>0.0</td>\n",
       "      <td>0.0</td>\n",
       "      <td>1.0</td>\n",
       "      <td>0.0</td>\n",
       "      <td>0.0</td>\n",
       "      <td>12.0</td>\n",
       "      <td>12.0</td>\n",
       "      <td>0.0</td>\n",
       "    </tr>\n",
       "    <tr>\n",
       "      <th>1</th>\n",
       "      <td>16.0</td>\n",
       "      <td>12.0</td>\n",
       "      <td>5.0</td>\n",
       "      <td>16.0</td>\n",
       "      <td>14.0</td>\n",
       "      <td>14.0</td>\n",
       "      <td>15.0</td>\n",
       "      <td>16.0</td>\n",
       "      <td>16.0</td>\n",
       "      <td>14.0</td>\n",
       "      <td>...</td>\n",
       "      <td>13.0</td>\n",
       "      <td>16.0</td>\n",
       "      <td>16.0</td>\n",
       "      <td>15.0</td>\n",
       "      <td>16.0</td>\n",
       "      <td>16.0</td>\n",
       "      <td>15.0</td>\n",
       "      <td>16.0</td>\n",
       "      <td>16.0</td>\n",
       "      <td>0.0</td>\n",
       "    </tr>\n",
       "    <tr>\n",
       "      <th>2</th>\n",
       "      <td>0.0</td>\n",
       "      <td>2.0</td>\n",
       "      <td>5.0</td>\n",
       "      <td>16.0</td>\n",
       "      <td>4.0</td>\n",
       "      <td>4.0</td>\n",
       "      <td>2.0</td>\n",
       "      <td>1.0</td>\n",
       "      <td>0.0</td>\n",
       "      <td>1.0</td>\n",
       "      <td>...</td>\n",
       "      <td>13.0</td>\n",
       "      <td>1.0</td>\n",
       "      <td>0.0</td>\n",
       "      <td>1.0</td>\n",
       "      <td>0.0</td>\n",
       "      <td>8.0</td>\n",
       "      <td>9.0</td>\n",
       "      <td>0.0</td>\n",
       "      <td>0.0</td>\n",
       "      <td>0.0</td>\n",
       "    </tr>\n",
       "    <tr>\n",
       "      <th>3</th>\n",
       "      <td>0.0</td>\n",
       "      <td>1.0</td>\n",
       "      <td>0.0</td>\n",
       "      <td>6.0</td>\n",
       "      <td>0.0</td>\n",
       "      <td>1.0</td>\n",
       "      <td>0.0</td>\n",
       "      <td>0.0</td>\n",
       "      <td>1.0</td>\n",
       "      <td>0.0</td>\n",
       "      <td>...</td>\n",
       "      <td>0.0</td>\n",
       "      <td>0.0</td>\n",
       "      <td>2.0</td>\n",
       "      <td>1.0</td>\n",
       "      <td>0.0</td>\n",
       "      <td>11.0</td>\n",
       "      <td>16.0</td>\n",
       "      <td>11.0</td>\n",
       "      <td>0.0</td>\n",
       "      <td>1.0</td>\n",
       "    </tr>\n",
       "    <tr>\n",
       "      <th>4</th>\n",
       "      <td>16.0</td>\n",
       "      <td>13.0</td>\n",
       "      <td>16.0</td>\n",
       "      <td>16.0</td>\n",
       "      <td>16.0</td>\n",
       "      <td>16.0</td>\n",
       "      <td>15.0</td>\n",
       "      <td>14.0</td>\n",
       "      <td>16.0</td>\n",
       "      <td>16.0</td>\n",
       "      <td>...</td>\n",
       "      <td>14.0</td>\n",
       "      <td>9.0</td>\n",
       "      <td>16.0</td>\n",
       "      <td>15.0</td>\n",
       "      <td>15.0</td>\n",
       "      <td>16.0</td>\n",
       "      <td>16.0</td>\n",
       "      <td>15.0</td>\n",
       "      <td>16.0</td>\n",
       "      <td>16.0</td>\n",
       "    </tr>\n",
       "  </tbody>\n",
       "</table>\n",
       "<p>5 rows × 64 columns</p>\n",
       "</div>"
      ],
      "text/plain": [
       "   1.000000000000000000e+00  1.000000000000000000e+00.1  \\\n",
       "0                       2.0                         2.0   \n",
       "1                      16.0                        12.0   \n",
       "2                       0.0                         2.0   \n",
       "3                       0.0                         1.0   \n",
       "4                      16.0                        13.0   \n",
       "\n",
       "   0.000000000000000000e+00  3.000000000000000000e+00  \\\n",
       "0                       2.0                       1.0   \n",
       "1                       5.0                      16.0   \n",
       "2                       5.0                      16.0   \n",
       "3                       0.0                       6.0   \n",
       "4                      16.0                      16.0   \n",
       "\n",
       "   1.200000000000000000e+01  1.200000000000000000e+01.1  \\\n",
       "0                       2.0                         8.0   \n",
       "1                      14.0                        14.0   \n",
       "2                       4.0                         4.0   \n",
       "3                       0.0                         1.0   \n",
       "4                      16.0                        16.0   \n",
       "\n",
       "   2.000000000000000000e+00  1.000000000000000000e+00.2  \\\n",
       "0                       0.0                         2.0   \n",
       "1                      15.0                        16.0   \n",
       "2                       2.0                         1.0   \n",
       "3                       0.0                         0.0   \n",
       "4                      15.0                        14.0   \n",
       "\n",
       "   2.000000000000000000e+00.1  8.000000000000000000e+00  ...  \\\n",
       "0                         0.0                       1.0  ...   \n",
       "1                        16.0                      14.0  ...   \n",
       "2                         0.0                       1.0  ...   \n",
       "3                         1.0                       0.0  ...   \n",
       "4                        16.0                      16.0  ...   \n",
       "\n",
       "   1.600000000000000000e+01  0.000000000000000000e+00.10  \\\n",
       "0                      15.0                          2.0   \n",
       "1                      13.0                         16.0   \n",
       "2                      13.0                          1.0   \n",
       "3                       0.0                          0.0   \n",
       "4                      14.0                          9.0   \n",
       "\n",
       "   1.000000000000000000e+00.6  0.000000000000000000e+00.11  \\\n",
       "0                         0.0                          0.0   \n",
       "1                        16.0                         15.0   \n",
       "2                         0.0                          1.0   \n",
       "3                         2.0                          1.0   \n",
       "4                        16.0                         15.0   \n",
       "\n",
       "   4.000000000000000000e+00.5  0.000000000000000000e+00.12  \\\n",
       "0                         1.0                          0.0   \n",
       "1                        16.0                         16.0   \n",
       "2                         0.0                          8.0   \n",
       "3                         0.0                         11.0   \n",
       "4                        15.0                         16.0   \n",
       "\n",
       "   1.300000000000000000e+01.1  1.000000000000000000e+00.7  \\\n",
       "0                         0.0                        12.0   \n",
       "1                        15.0                        16.0   \n",
       "2                         9.0                         0.0   \n",
       "3                        16.0                        11.0   \n",
       "4                        16.0                        15.0   \n",
       "\n",
       "   1.300000000000000000e+01.2  0.000000000000000000e+00.13  \n",
       "0                        12.0                          0.0  \n",
       "1                        16.0                          0.0  \n",
       "2                         0.0                          0.0  \n",
       "3                         0.0                          1.0  \n",
       "4                        16.0                         16.0  \n",
       "\n",
       "[5 rows x 64 columns]"
      ]
     },
     "execution_count": 84,
     "metadata": {},
     "output_type": "execute_result"
    }
   ],
   "source": [
    "# get the testing features\n",
    "df_features_test = pd.read_csv(\"./files/test_inputs.csv\")\n",
    "df_features_test.head()"
   ]
  },
  {
   "cell_type": "code",
   "execution_count": 85,
   "metadata": {},
   "outputs": [
    {
     "data": {
      "text/html": [
       "<div>\n",
       "<style scoped>\n",
       "    .dataframe tbody tr th:only-of-type {\n",
       "        vertical-align: middle;\n",
       "    }\n",
       "\n",
       "    .dataframe tbody tr th {\n",
       "        vertical-align: top;\n",
       "    }\n",
       "\n",
       "    .dataframe thead th {\n",
       "        text-align: right;\n",
       "    }\n",
       "</style>\n",
       "<table border=\"1\" class=\"dataframe\">\n",
       "  <thead>\n",
       "    <tr style=\"text-align: right;\">\n",
       "      <th></th>\n",
       "      <th>6.000000000000000000e+00</th>\n",
       "    </tr>\n",
       "  </thead>\n",
       "  <tbody>\n",
       "    <tr>\n",
       "      <th>0</th>\n",
       "      <td>6.0</td>\n",
       "    </tr>\n",
       "    <tr>\n",
       "      <th>1</th>\n",
       "      <td>5.0</td>\n",
       "    </tr>\n",
       "    <tr>\n",
       "      <th>2</th>\n",
       "      <td>6.0</td>\n",
       "    </tr>\n",
       "    <tr>\n",
       "      <th>3</th>\n",
       "      <td>6.0</td>\n",
       "    </tr>\n",
       "    <tr>\n",
       "      <th>4</th>\n",
       "      <td>6.0</td>\n",
       "    </tr>\n",
       "  </tbody>\n",
       "</table>\n",
       "</div>"
      ],
      "text/plain": [
       "   6.000000000000000000e+00\n",
       "0                       6.0\n",
       "1                       5.0\n",
       "2                       6.0\n",
       "3                       6.0\n",
       "4                       6.0"
      ]
     },
     "execution_count": 85,
     "metadata": {},
     "output_type": "execute_result"
    }
   ],
   "source": [
    "# get the testing targets\n",
    "df_target_test = pd.read_csv(\"./files/test_labels.csv\")\n",
    "df_target_test.head()"
   ]
  },
  {
   "cell_type": "code",
   "execution_count": null,
   "metadata": {},
   "outputs": [],
   "source": []
  },
  {
   "cell_type": "markdown",
   "metadata": {},
   "source": [
    "## How we will approach creating the K-NN algorithm\n",
    "- calculate the distance between the new data point to everyother data point\n",
    "- see which distance was the smallest between compared to all the points\n",
    "- classifiy the test with the target value of the data point with the smallest distance"
   ]
  },
  {
   "cell_type": "markdown",
   "metadata": {},
   "source": [
    "### Using 1-NN \n",
    "- Here we only need to keep track of the smallest distance and use the target value  \n",
    "  of the smallest distance to classify the data point as either 5 or 6.\n",
    "\n"
   ]
  },
  {
   "cell_type": "code",
   "execution_count": 86,
   "metadata": {},
   "outputs": [],
   "source": [
    "# where x_test is the test vector\n",
    "# where x_train is the feature vector\n",
    "\n",
    "def distance(x_train, x_test):\n",
    "    return np.sqrt(np.sum((x_train - x_test) ** 2, axis=1))\n",
    "\n"
   ]
  },
  {
   "cell_type": "code",
   "execution_count": 87,
   "metadata": {},
   "outputs": [],
   "source": [
    "def predict(x_test, x_train, y_train, k):\n",
    "    \n",
    "    x_train = np.array(x_train)  \n",
    "    x_test = np.array(x_test).reshape(1, -1)  \n",
    "    \n",
    "    distance_array = distance(x_train, x_test)\n",
    "\n",
    "    k_index = np.argsort(distance_array)[:k]\n",
    "    k_nearest_label = y_train.iloc[k_index].values\n",
    "\n",
    "    # Majority voting\n",
    "    common = Counter(k_nearest_label).most_common(1)[0][0]\n",
    "\n",
    "    return common\n",
    "\n"
   ]
  },
  {
   "cell_type": "code",
   "execution_count": 88,
   "metadata": {},
   "outputs": [],
   "source": [
    "def one_NN(x_train, y_train, x_test, y_test, k):\n",
    "    y_train_series = y_train.copy().squeeze()\n",
    "\n",
    "    x_train_np = x_train.values\n",
    "    x_test_np = x_test.values   \n",
    "\n",
    "    predictions = [predict(x, x_train_np, y_train_series, k) for x in x_test_np]\n",
    "    return np.array(predictions)"
   ]
  },
  {
   "cell_type": "code",
   "execution_count": null,
   "metadata": {},
   "outputs": [],
   "source": []
  },
  {
   "cell_type": "code",
   "execution_count": 89,
   "metadata": {},
   "outputs": [
    {
     "name": "stdout",
     "output_type": "stream",
     "text": [
      "[6. 5. 6. 6. 6. 5. 5. 5. 6. 5. 6. 6. 6. 6. 6. 6. 5. 5. 6. 6. 6. 5. 6. 6.\n",
      " 6. 5. 5. 6. 5. 6. 5. 6. 5. 6. 6. 5. 6. 5. 5. 6. 6. 5. 5. 6. 5. 6. 5. 6.\n",
      " 5. 6. 6. 6. 6. 6. 6. 5. 6. 5. 6. 6. 6. 6. 6. 5. 6. 6. 5. 5. 6. 5. 6. 5.\n",
      " 5. 6. 5. 6. 5. 6. 6. 5. 6. 5. 6. 6. 5. 6. 6. 5. 6. 6. 5. 5. 6. 6. 6. 5.\n",
      " 6. 5. 6. 6. 6. 6. 5. 6. 6. 5. 6. 5. 6.]\n"
     ]
    }
   ],
   "source": [
    "predictions1 = one_NN(df_features_train, df_target_train, df_features_test, df_target_test, 1)\n",
    "print(predictions1)"
   ]
  },
  {
   "cell_type": "markdown",
   "metadata": {},
   "source": [
    "# Testing to make sure our alogirthm works"
   ]
  },
  {
   "cell_type": "markdown",
   "metadata": {},
   "source": [
    "## Checking for how accurate our model is when K = 1"
   ]
  },
  {
   "cell_type": "code",
   "execution_count": 90,
   "metadata": {},
   "outputs": [
    {
     "name": "stdout",
     "output_type": "stream",
     "text": [
      "0.6972477064220184\n"
     ]
    }
   ],
   "source": [
    "test_series = df_target_test.squeeze()\n",
    "accuracy = np.sum(predictions1 == test_series) / len(predictions1)\n",
    "print(accuracy)"
   ]
  },
  {
   "cell_type": "markdown",
   "metadata": {},
   "source": [
    "we can see that having a k value of 1 reduces the accuracy of the model."
   ]
  },
  {
   "cell_type": "markdown",
   "metadata": {},
   "source": [
    "## Testing our model with K=3"
   ]
  },
  {
   "cell_type": "code",
   "execution_count": 91,
   "metadata": {},
   "outputs": [
    {
     "name": "stdout",
     "output_type": "stream",
     "text": [
      "[6. 5. 6. 6. 6. 5. 5. 5. 6. 6. 6. 6. 6. 6. 6. 6. 5. 5. 6. 6. 6. 5. 6. 6.\n",
      " 6. 5. 5. 5. 5. 6. 5. 6. 5. 6. 6. 5. 6. 5. 5. 6. 6. 5. 5. 6. 5. 5. 6. 6.\n",
      " 5. 6. 6. 6. 6. 6. 5. 5. 5. 5. 6. 5. 5. 6. 6. 6. 6. 5. 5. 5. 6. 5. 6. 6.\n",
      " 5. 6. 5. 6. 5. 6. 6. 5. 6. 6. 5. 6. 5. 6. 6. 6. 6. 6. 5. 5. 6. 6. 6. 6.\n",
      " 6. 6. 6. 6. 6. 6. 6. 6. 6. 5. 6. 5. 6.]\n"
     ]
    }
   ],
   "source": [
    "predictions2 = one_NN(df_features_train, df_target_train, df_features_test, df_target_test, 3)\n",
    "print(predictions2)"
   ]
  },
  {
   "cell_type": "code",
   "execution_count": 92,
   "metadata": {},
   "outputs": [
    {
     "name": "stdout",
     "output_type": "stream",
     "text": [
      "0.7431192660550459\n"
     ]
    }
   ],
   "source": [
    "accuracy = np.sum(predictions2 == test_series) / len(predictions2)\n",
    "print(accuracy)"
   ]
  },
  {
   "cell_type": "markdown",
   "metadata": {},
   "source": [
    "## Working with Cross Validation\n"
   ]
  },
  {
   "cell_type": "code",
   "execution_count": 93,
   "metadata": {},
   "outputs": [],
   "source": [
    "def cross_val_knn(x_train, y_train, k, n_split=10):\n",
    "\n",
    "    kf = KFold(n_splits=n_split, shuffle= True, random_state=42)\n",
    "    accuracies = []\n",
    "\n",
    "    for train_index, val_index in kf.split(x_train):\n",
    "\n",
    "        x_train_fold, x_val_fold = x_train.iloc[train_index], x_train.iloc[val_index]\n",
    "        y_train_fold, y_val_fold = y_train.iloc[train_index], y_train.iloc[val_index]\n",
    "\n",
    "        predictions = one_NN(x_train_fold, y_train_fold, x_val_fold, y_val_fold, k)\n",
    "\n",
    "        accuracy = np.mean(predictions == y_val_fold.values)\n",
    "        accuracies.append(accuracy)\n",
    "\n",
    "        \n",
    "    return np.mean(accuracies)\n"
   ]
  },
  {
   "cell_type": "code",
   "execution_count": 94,
   "metadata": {},
   "outputs": [
    {
     "name": "stdout",
     "output_type": "stream",
     "text": [
      "[np.float64(0.7437474747474748)]\n",
      "[np.float64(0.7437474747474748), np.float64(0.7437474747474748)]\n",
      "[np.float64(0.7437474747474748), np.float64(0.7437474747474748), np.float64(0.7737777777777779)]\n",
      "[np.float64(0.7437474747474748), np.float64(0.7437474747474748), np.float64(0.7737777777777779), np.float64(0.7777474747474749)]\n",
      "[np.float64(0.7437474747474748), np.float64(0.7437474747474748), np.float64(0.7737777777777779), np.float64(0.7777474747474749), np.float64(0.7897878787878787)]\n",
      "[np.float64(0.7437474747474748), np.float64(0.7437474747474748), np.float64(0.7737777777777779), np.float64(0.7777474747474749), np.float64(0.7897878787878787), np.float64(0.7867878787878788)]\n",
      "[np.float64(0.7437474747474748), np.float64(0.7437474747474748), np.float64(0.7737777777777779), np.float64(0.7777474747474749), np.float64(0.7897878787878787), np.float64(0.7867878787878788), np.float64(0.8008181818181818)]\n",
      "[np.float64(0.7437474747474748), np.float64(0.7437474747474748), np.float64(0.7737777777777779), np.float64(0.7777474747474749), np.float64(0.7897878787878787), np.float64(0.7867878787878788), np.float64(0.8008181818181818), np.float64(0.7848080808080808)]\n",
      "[np.float64(0.7437474747474748), np.float64(0.7437474747474748), np.float64(0.7737777777777779), np.float64(0.7777474747474749), np.float64(0.7897878787878787), np.float64(0.7867878787878788), np.float64(0.8008181818181818), np.float64(0.7848080808080808), np.float64(0.7917979797979798)]\n",
      "[np.float64(0.7437474747474748), np.float64(0.7437474747474748), np.float64(0.7737777777777779), np.float64(0.7777474747474749), np.float64(0.7897878787878787), np.float64(0.7867878787878788), np.float64(0.8008181818181818), np.float64(0.7848080808080808), np.float64(0.7917979797979798), np.float64(0.7897878787878787)]\n",
      "[np.float64(0.7437474747474748), np.float64(0.7437474747474748), np.float64(0.7737777777777779), np.float64(0.7777474747474749), np.float64(0.7897878787878787), np.float64(0.7867878787878788), np.float64(0.8008181818181818), np.float64(0.7848080808080808), np.float64(0.7917979797979798), np.float64(0.7897878787878787), np.float64(0.7868080808080807)]\n",
      "[np.float64(0.7437474747474748), np.float64(0.7437474747474748), np.float64(0.7737777777777779), np.float64(0.7777474747474749), np.float64(0.7897878787878787), np.float64(0.7867878787878788), np.float64(0.8008181818181818), np.float64(0.7848080808080808), np.float64(0.7917979797979798), np.float64(0.7897878787878787), np.float64(0.7868080808080807), np.float64(0.7897878787878787)]\n",
      "[np.float64(0.7437474747474748), np.float64(0.7437474747474748), np.float64(0.7737777777777779), np.float64(0.7777474747474749), np.float64(0.7897878787878787), np.float64(0.7867878787878788), np.float64(0.8008181818181818), np.float64(0.7848080808080808), np.float64(0.7917979797979798), np.float64(0.7897878787878787), np.float64(0.7868080808080807), np.float64(0.7897878787878787), np.float64(0.7877777777777777)]\n",
      "[np.float64(0.7437474747474748), np.float64(0.7437474747474748), np.float64(0.7737777777777779), np.float64(0.7777474747474749), np.float64(0.7897878787878787), np.float64(0.7867878787878788), np.float64(0.8008181818181818), np.float64(0.7848080808080808), np.float64(0.7917979797979798), np.float64(0.7897878787878787), np.float64(0.7868080808080807), np.float64(0.7897878787878787), np.float64(0.7877777777777777), np.float64(0.7867979797979798)]\n",
      "[np.float64(0.7437474747474748), np.float64(0.7437474747474748), np.float64(0.7737777777777779), np.float64(0.7777474747474749), np.float64(0.7897878787878787), np.float64(0.7867878787878788), np.float64(0.8008181818181818), np.float64(0.7848080808080808), np.float64(0.7917979797979798), np.float64(0.7897878787878787), np.float64(0.7868080808080807), np.float64(0.7897878787878787), np.float64(0.7877777777777777), np.float64(0.7867979797979798), np.float64(0.7937979797979798)]\n",
      "[np.float64(0.7437474747474748), np.float64(0.7437474747474748), np.float64(0.7737777777777779), np.float64(0.7777474747474749), np.float64(0.7897878787878787), np.float64(0.7867878787878788), np.float64(0.8008181818181818), np.float64(0.7848080808080808), np.float64(0.7917979797979798), np.float64(0.7897878787878787), np.float64(0.7868080808080807), np.float64(0.7897878787878787), np.float64(0.7877777777777777), np.float64(0.7867979797979798), np.float64(0.7937979797979798), np.float64(0.7937878787878788)]\n",
      "[np.float64(0.7437474747474748), np.float64(0.7437474747474748), np.float64(0.7737777777777779), np.float64(0.7777474747474749), np.float64(0.7897878787878787), np.float64(0.7867878787878788), np.float64(0.8008181818181818), np.float64(0.7848080808080808), np.float64(0.7917979797979798), np.float64(0.7897878787878787), np.float64(0.7868080808080807), np.float64(0.7897878787878787), np.float64(0.7877777777777777), np.float64(0.7867979797979798), np.float64(0.7937979797979798), np.float64(0.7937878787878788), np.float64(0.7938181818181819)]\n",
      "[np.float64(0.7437474747474748), np.float64(0.7437474747474748), np.float64(0.7737777777777779), np.float64(0.7777474747474749), np.float64(0.7897878787878787), np.float64(0.7867878787878788), np.float64(0.8008181818181818), np.float64(0.7848080808080808), np.float64(0.7917979797979798), np.float64(0.7897878787878787), np.float64(0.7868080808080807), np.float64(0.7897878787878787), np.float64(0.7877777777777777), np.float64(0.7867979797979798), np.float64(0.7937979797979798), np.float64(0.7937878787878788), np.float64(0.7938181818181819), np.float64(0.7917676767676768)]\n",
      "[np.float64(0.7437474747474748), np.float64(0.7437474747474748), np.float64(0.7737777777777779), np.float64(0.7777474747474749), np.float64(0.7897878787878787), np.float64(0.7867878787878788), np.float64(0.8008181818181818), np.float64(0.7848080808080808), np.float64(0.7917979797979798), np.float64(0.7897878787878787), np.float64(0.7868080808080807), np.float64(0.7897878787878787), np.float64(0.7877777777777777), np.float64(0.7867979797979798), np.float64(0.7937979797979798), np.float64(0.7937878787878788), np.float64(0.7938181818181819), np.float64(0.7917676767676768), np.float64(0.7867878787878788)]\n",
      "[np.float64(0.7437474747474748), np.float64(0.7437474747474748), np.float64(0.7737777777777779), np.float64(0.7777474747474749), np.float64(0.7897878787878787), np.float64(0.7867878787878788), np.float64(0.8008181818181818), np.float64(0.7848080808080808), np.float64(0.7917979797979798), np.float64(0.7897878787878787), np.float64(0.7868080808080807), np.float64(0.7897878787878787), np.float64(0.7877777777777777), np.float64(0.7867979797979798), np.float64(0.7937979797979798), np.float64(0.7937878787878788), np.float64(0.7938181818181819), np.float64(0.7917676767676768), np.float64(0.7867878787878788), np.float64(0.7897676767676768)]\n",
      "[np.float64(0.7437474747474748), np.float64(0.7437474747474748), np.float64(0.7737777777777779), np.float64(0.7777474747474749), np.float64(0.7897878787878787), np.float64(0.7867878787878788), np.float64(0.8008181818181818), np.float64(0.7848080808080808), np.float64(0.7917979797979798), np.float64(0.7897878787878787), np.float64(0.7868080808080807), np.float64(0.7897878787878787), np.float64(0.7877777777777777), np.float64(0.7867979797979798), np.float64(0.7937979797979798), np.float64(0.7937878787878788), np.float64(0.7938181818181819), np.float64(0.7917676767676768), np.float64(0.7867878787878788), np.float64(0.7897676767676768), np.float64(0.7757575757575759)]\n",
      "[np.float64(0.7437474747474748), np.float64(0.7437474747474748), np.float64(0.7737777777777779), np.float64(0.7777474747474749), np.float64(0.7897878787878787), np.float64(0.7867878787878788), np.float64(0.8008181818181818), np.float64(0.7848080808080808), np.float64(0.7917979797979798), np.float64(0.7897878787878787), np.float64(0.7868080808080807), np.float64(0.7897878787878787), np.float64(0.7877777777777777), np.float64(0.7867979797979798), np.float64(0.7937979797979798), np.float64(0.7937878787878788), np.float64(0.7938181818181819), np.float64(0.7917676767676768), np.float64(0.7867878787878788), np.float64(0.7897676767676768), np.float64(0.7757575757575759), np.float64(0.7837676767676768)]\n",
      "[np.float64(0.7437474747474748), np.float64(0.7437474747474748), np.float64(0.7737777777777779), np.float64(0.7777474747474749), np.float64(0.7897878787878787), np.float64(0.7867878787878788), np.float64(0.8008181818181818), np.float64(0.7848080808080808), np.float64(0.7917979797979798), np.float64(0.7897878787878787), np.float64(0.7868080808080807), np.float64(0.7897878787878787), np.float64(0.7877777777777777), np.float64(0.7867979797979798), np.float64(0.7937979797979798), np.float64(0.7937878787878788), np.float64(0.7938181818181819), np.float64(0.7917676767676768), np.float64(0.7867878787878788), np.float64(0.7897676767676768), np.float64(0.7757575757575759), np.float64(0.7837676767676768), np.float64(0.7767575757575759)]\n",
      "[np.float64(0.7437474747474748), np.float64(0.7437474747474748), np.float64(0.7737777777777779), np.float64(0.7777474747474749), np.float64(0.7897878787878787), np.float64(0.7867878787878788), np.float64(0.8008181818181818), np.float64(0.7848080808080808), np.float64(0.7917979797979798), np.float64(0.7897878787878787), np.float64(0.7868080808080807), np.float64(0.7897878787878787), np.float64(0.7877777777777777), np.float64(0.7867979797979798), np.float64(0.7937979797979798), np.float64(0.7937878787878788), np.float64(0.7938181818181819), np.float64(0.7917676767676768), np.float64(0.7867878787878788), np.float64(0.7897676767676768), np.float64(0.7757575757575759), np.float64(0.7837676767676768), np.float64(0.7767575757575759), np.float64(0.7887575757575759)]\n",
      "[np.float64(0.7437474747474748), np.float64(0.7437474747474748), np.float64(0.7737777777777779), np.float64(0.7777474747474749), np.float64(0.7897878787878787), np.float64(0.7867878787878788), np.float64(0.8008181818181818), np.float64(0.7848080808080808), np.float64(0.7917979797979798), np.float64(0.7897878787878787), np.float64(0.7868080808080807), np.float64(0.7897878787878787), np.float64(0.7877777777777777), np.float64(0.7867979797979798), np.float64(0.7937979797979798), np.float64(0.7937878787878788), np.float64(0.7938181818181819), np.float64(0.7917676767676768), np.float64(0.7867878787878788), np.float64(0.7897676767676768), np.float64(0.7757575757575759), np.float64(0.7837676767676768), np.float64(0.7767575757575759), np.float64(0.7887575757575759), np.float64(0.7797575757575759)]\n",
      "[np.float64(0.7437474747474748), np.float64(0.7437474747474748), np.float64(0.7737777777777779), np.float64(0.7777474747474749), np.float64(0.7897878787878787), np.float64(0.7867878787878788), np.float64(0.8008181818181818), np.float64(0.7848080808080808), np.float64(0.7917979797979798), np.float64(0.7897878787878787), np.float64(0.7868080808080807), np.float64(0.7897878787878787), np.float64(0.7877777777777777), np.float64(0.7867979797979798), np.float64(0.7937979797979798), np.float64(0.7937878787878788), np.float64(0.7938181818181819), np.float64(0.7917676767676768), np.float64(0.7867878787878788), np.float64(0.7897676767676768), np.float64(0.7757575757575759), np.float64(0.7837676767676768), np.float64(0.7767575757575759), np.float64(0.7887575757575759), np.float64(0.7797575757575759), np.float64(0.7817676767676767)]\n",
      "[np.float64(0.7437474747474748), np.float64(0.7437474747474748), np.float64(0.7737777777777779), np.float64(0.7777474747474749), np.float64(0.7897878787878787), np.float64(0.7867878787878788), np.float64(0.8008181818181818), np.float64(0.7848080808080808), np.float64(0.7917979797979798), np.float64(0.7897878787878787), np.float64(0.7868080808080807), np.float64(0.7897878787878787), np.float64(0.7877777777777777), np.float64(0.7867979797979798), np.float64(0.7937979797979798), np.float64(0.7937878787878788), np.float64(0.7938181818181819), np.float64(0.7917676767676768), np.float64(0.7867878787878788), np.float64(0.7897676767676768), np.float64(0.7757575757575759), np.float64(0.7837676767676768), np.float64(0.7767575757575759), np.float64(0.7887575757575759), np.float64(0.7797575757575759), np.float64(0.7817676767676767), np.float64(0.7647474747474747)]\n",
      "[np.float64(0.7437474747474748), np.float64(0.7437474747474748), np.float64(0.7737777777777779), np.float64(0.7777474747474749), np.float64(0.7897878787878787), np.float64(0.7867878787878788), np.float64(0.8008181818181818), np.float64(0.7848080808080808), np.float64(0.7917979797979798), np.float64(0.7897878787878787), np.float64(0.7868080808080807), np.float64(0.7897878787878787), np.float64(0.7877777777777777), np.float64(0.7867979797979798), np.float64(0.7937979797979798), np.float64(0.7937878787878788), np.float64(0.7938181818181819), np.float64(0.7917676767676768), np.float64(0.7867878787878788), np.float64(0.7897676767676768), np.float64(0.7757575757575759), np.float64(0.7837676767676768), np.float64(0.7767575757575759), np.float64(0.7887575757575759), np.float64(0.7797575757575759), np.float64(0.7817676767676767), np.float64(0.7647474747474747), np.float64(0.7867676767676767)]\n",
      "[np.float64(0.7437474747474748), np.float64(0.7437474747474748), np.float64(0.7737777777777779), np.float64(0.7777474747474749), np.float64(0.7897878787878787), np.float64(0.7867878787878788), np.float64(0.8008181818181818), np.float64(0.7848080808080808), np.float64(0.7917979797979798), np.float64(0.7897878787878787), np.float64(0.7868080808080807), np.float64(0.7897878787878787), np.float64(0.7877777777777777), np.float64(0.7867979797979798), np.float64(0.7937979797979798), np.float64(0.7937878787878788), np.float64(0.7938181818181819), np.float64(0.7917676767676768), np.float64(0.7867878787878788), np.float64(0.7897676767676768), np.float64(0.7757575757575759), np.float64(0.7837676767676768), np.float64(0.7767575757575759), np.float64(0.7887575757575759), np.float64(0.7797575757575759), np.float64(0.7817676767676767), np.float64(0.7647474747474747), np.float64(0.7867676767676767), np.float64(0.7777474747474746)]\n",
      "[np.float64(0.7437474747474748), np.float64(0.7437474747474748), np.float64(0.7737777777777779), np.float64(0.7777474747474749), np.float64(0.7897878787878787), np.float64(0.7867878787878788), np.float64(0.8008181818181818), np.float64(0.7848080808080808), np.float64(0.7917979797979798), np.float64(0.7897878787878787), np.float64(0.7868080808080807), np.float64(0.7897878787878787), np.float64(0.7877777777777777), np.float64(0.7867979797979798), np.float64(0.7937979797979798), np.float64(0.7937878787878788), np.float64(0.7938181818181819), np.float64(0.7917676767676768), np.float64(0.7867878787878788), np.float64(0.7897676767676768), np.float64(0.7757575757575759), np.float64(0.7837676767676768), np.float64(0.7767575757575759), np.float64(0.7887575757575759), np.float64(0.7797575757575759), np.float64(0.7817676767676767), np.float64(0.7647474747474747), np.float64(0.7867676767676767), np.float64(0.7777474747474746), np.float64(0.7887777777777777)]\n",
      "Best k: 7, Cross-validation accuracy: 0.8008\n"
     ]
    }
   ],
   "source": [
    "k_values = range(1,31)\n",
    "cross_val_accuracy = []\n",
    "\n",
    "for k in range(1,31):\n",
    "    acc = cross_val_knn(df_features_train, df_target_train.squeeze(), k)\n",
    "    cross_val_accuracy.append(acc)\n",
    "    print(cross_val_accuracy)\n",
    "\n",
    "best_k = k_values[np.argmax(cross_val_accuracy)]\n",
    "best_accuracy = max(cross_val_accuracy)\n",
    "print(f\"Best k: {best_k}, Cross-validation accuracy: {best_accuracy:.4f}\")\n",
    "\n"
   ]
  },
  {
   "cell_type": "markdown",
   "metadata": {},
   "source": [
    "## Getting a visual on what the features look like"
   ]
  },
  {
   "cell_type": "code",
   "execution_count": 95,
   "metadata": {},
   "outputs": [
    {
     "data": {
      "image/png": "[encoded data removed]",
      "text/plain": [
       "<Figure size 800x500 with 2 Axes>"
      ]
     },
     "metadata": {},
     "output_type": "display_data"
    }
   ],
   "source": [
    "df_features_plot = df_features_train.iloc[:, [0, 1]]\n",
    "df_target_plot = df_target_train.squeeze()  \n",
    "\n",
    "plt.figure(figsize=(8, 5))\n",
    "scatter = plt.scatter(df_features_plot.iloc[:, 0], df_features_plot.iloc[:, 1], \n",
    "                       c=df_target_plot, cmap=\"coolwarm\", edgecolors='k', alpha=0.7)\n",
    "\n",
    "plt.xlabel(\"Feature 1\")\n",
    "plt.ylabel(\"Feature 2\")\n",
    "plt.title(\"Scatter Plot of Training Data (Color = Target Label)\")\n",
    "plt.colorbar(label=\"Class Label\")  \n",
    "plt.grid(True)\n",
    "plt.show()"
   ]
  },
  {
   "cell_type": "markdown",
   "metadata": {},
   "source": [
    "## 1. A graph that shows the average accuracy based on 10-fold cross validation when varying the number of neighbours from 1 to 30."
   ]
  },
  {
   "cell_type": "code",
   "execution_count": 96,
   "metadata": {},
   "outputs": [
    {
     "data": {
      "image/png": "[encoded data removed]",
      "text/plain": [
       "<Figure size 1000x500 with 1 Axes>"
      ]
     },
     "metadata": {},
     "output_type": "display_data"
    }
   ],
   "source": [
    "plt.figure(figsize=(10, 5))\n",
    "plt.plot(k_values, cross_val_accuracy, marker='o', linestyle='-')\n",
    "plt.xlabel(\"Number of Neighbors (k)\")\n",
    "plt.ylabel(\"Cross-Validation Accuracy\")\n",
    "plt.title(\"10-Fold Cross-Validation Accuracy vs. Number of Neighbors\")\n",
    "plt.grid(True)\n",
    "plt.show()\n"
   ]
  },
  {
   "cell_type": "markdown",
   "metadata": {},
   "source": [
    "## 2. The best number of neighbours found by 10-fold cross validation and its cross-validation accuracy."
   ]
  },
  {
   "cell_type": "code",
   "execution_count": 97,
   "metadata": {},
   "outputs": [
    {
     "name": "stdout",
     "output_type": "stream",
     "text": [
      "Best k: 7, Cross-validation accuracy: 0.8008\n"
     ]
    }
   ],
   "source": [
    "print(f\"Best k: {best_k}, Cross-validation accuracy: {best_accuracy:.4f}\")"
   ]
  },
  {
   "cell_type": "markdown",
   "metadata": {},
   "source": [
    "## 3. The test accuracy based on the best number of neighbours."
   ]
  },
  {
   "cell_type": "code",
   "execution_count": 98,
   "metadata": {},
   "outputs": [
    {
     "name": "stdout",
     "output_type": "stream",
     "text": [
      "[6. 5. 6. 6. 6. 5. 5. 5. 6. 5. 6. 6. 6. 6. 6. 6. 5. 5. 6. 6. 6. 5. 6. 6.\n",
      " 6. 5. 5. 5. 5. 6. 5. 6. 6. 6. 6. 5. 6. 5. 5. 6. 5. 5. 6. 6. 5. 6. 6. 6.\n",
      " 5. 6. 6. 6. 6. 6. 5. 5. 5. 5. 5. 6. 6. 6. 6. 6. 6. 5. 5. 5. 6. 5. 6. 6.\n",
      " 5. 6. 5. 6. 5. 6. 6. 5. 6. 6. 5. 6. 5. 6. 6. 5. 6. 6. 6. 5. 6. 6. 6. 6.\n",
      " 6. 5. 6. 6. 6. 6. 6. 5. 6. 5. 6. 5. 6.]\n"
     ]
    }
   ],
   "source": [
    "predictions3 = one_NN(df_features_train, df_target_train, df_features_test, df_target_test, best_k)\n",
    "print(predictions3)"
   ]
  },
  {
   "cell_type": "code",
   "execution_count": 99,
   "metadata": {},
   "outputs": [
    {
     "name": "stdout",
     "output_type": "stream",
     "text": [
      "The K value used to test the model: range(1, 31), This reulted in an acuraccy of: 0.7798165137614679\n"
     ]
    }
   ],
   "source": [
    "accuracy = np.sum(predictions3 == test_series) / len(predictions3)\n",
    "print(f'The K value used to test the model: {k_values}, This reulted in an acuraccy of: {accuracy}')"
   ]
  },
  {
   "cell_type": "markdown",
   "metadata": {},
   "source": [
    "What we have conducted from traininig and validating this model is that the most accurate K value is 7. \n",
    "\n",
    "When testing this on our data we get an accuracy of 0.7798 which is very good comapred to other K values tested from cross validation"
   ]
  }
 ],
 "metadata": {
  "kernelspec": {
   "display_name": "base",
   "language": "python",
   "name": "python3"
  },
  "language_info": {
   "codemirror_mode": {
    "name": "ipython",
    "version": 3
   },
   "file_extension": ".py",
   "mimetype": "text/x-python",
   "name": "python",
   "nbconvert_exporter": "python",
   "pygments_lexer": "ipython3",
   "version": "3.12.2"
  }
 },
 "nbformat": 4,
 "nbformat_minor": 2
}
