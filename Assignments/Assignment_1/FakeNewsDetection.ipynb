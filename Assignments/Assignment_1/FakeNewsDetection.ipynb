{
 "cells": [
  {
   "cell_type": "code",
   "execution_count": 1,
   "metadata": {},
   "outputs": [],
   "source": [
    "import numpy as np\n",
    "import pandas as pd\n",
    "import matplotlib.pyplot as plt\n",
    "from sklearn.feature_extraction.text import CountVectorizer\n",
    "from sklearn.model_selection import train_test_split\n",
    "from sklearn.tree import DecisionTreeClassifier, plot_tree\n",
    "from sklearn.metrics import accuracy_score"
   ]
  },
  {
   "cell_type": "code",
   "execution_count": 4,
   "metadata": {},
   "outputs": [],
   "source": [
    "# locate the file\n",
    "FakeFileName = './Decision Tree-Dataset/fake.txt'\n",
    "RealFileName = './Decision Tree-Dataset/real.txt'"
   ]
  },
  {
   "cell_type": "markdown",
   "metadata": {},
   "source": [
    "## 1. Loading the Data"
   ]
  },
  {
   "cell_type": "code",
   "execution_count": null,
   "metadata": {},
   "outputs": [],
   "source": [
    "def load_data(real_data, fake_data):\n",
    "\n",
    "    with open(real_data, \"r\", encoding ='utf-8') as f:\n",
    "        real_headlines = f.readlines()\n",
    "    with open(fake_data, 'r', encoding = 'utf-8') as f:\n",
    "        fake_headlines = f.readlines()\n",
    "\n",
    "    real_headlines = [line.strip() for line in real_headlines]\n",
    "    fake_headlines = [line.strip() for line in fake_headlines]\n",
    "\n",
    "    data = pd.DataFrame({\"headline\": real_headlines + fake_headlines, 'label': [1] * len(real_headlines) + [0] * len(fake_headlines)})\n",
    "    data = data.sample(frac=1, random_state=42).reset_index(drop=True)\n",
    "\n",
    "    vectorizer = CountVectorizer()\n",
    "    X = vectorizer.fit_transform(data['headline'])\n",
    "    y = data['label']\n",
    "\n",
    "    \n",
    "    print(X)"
   ]
  },
  {
   "cell_type": "code",
   "execution_count": 16,
   "metadata": {},
   "outputs": [
    {
     "name": "stdout",
     "output_type": "stream",
     "text": [
      "<Compressed Sparse Row sparse matrix of dtype 'int64'\n",
      "\twith 31178 stored elements and shape (3266, 5799)>\n",
      "  Coords\tValues\n",
      "  (0, 3337)\t1\n",
      "  (0, 5303)\t1\n",
      "  (0, 805)\t1\n",
      "  (0, 5161)\t1\n",
      "  (0, 4219)\t1\n",
      "  (0, 995)\t1\n",
      "  (0, 1719)\t1\n",
      "  (0, 2680)\t1\n",
      "  (0, 5678)\t1\n",
      "  (0, 4472)\t1\n",
      "  (0, 5145)\t1\n",
      "  (1, 5303)\t1\n",
      "  (1, 160)\t1\n",
      "  (1, 4479)\t1\n",
      "  (1, 4881)\t1\n",
      "  (1, 3541)\t1\n",
      "  (1, 2987)\t1\n",
      "  (1, 3820)\t1\n",
      "  (1, 3505)\t1\n",
      "  (1, 93)\t1\n",
      "  (1, 2547)\t1\n",
      "  (2, 5303)\t1\n",
      "  (2, 3541)\t1\n",
      "  (2, 2743)\t1\n",
      "  (2, 4587)\t1\n",
      "  :\t:\n",
      "  (3263, 5436)\t1\n",
      "  (3263, 5157)\t1\n",
      "  (3263, 705)\t1\n",
      "  (3263, 1150)\t1\n",
      "  (3264, 5303)\t1\n",
      "  (3264, 4479)\t1\n",
      "  (3264, 4576)\t1\n",
      "  (3264, 3525)\t1\n",
      "  (3264, 3866)\t1\n",
      "  (3264, 4022)\t1\n",
      "  (3264, 341)\t1\n",
      "  (3264, 223)\t1\n",
      "  (3264, 2279)\t1\n",
      "  (3264, 2375)\t1\n",
      "  (3264, 2028)\t1\n",
      "  (3265, 5303)\t1\n",
      "  (3265, 1598)\t1\n",
      "  (3265, 1698)\t1\n",
      "  (3265, 561)\t1\n",
      "  (3265, 4170)\t1\n",
      "  (3265, 2965)\t1\n",
      "  (3265, 3471)\t1\n",
      "  (3265, 231)\t1\n",
      "  (3265, 3269)\t1\n",
      "  (3265, 4560)\t1\n"
     ]
    }
   ],
   "source": [
    "load_data(RealFileName, FakeFileName)"
   ]
  },
  {
   "cell_type": "code",
   "execution_count": null,
   "metadata": {},
   "outputs": [],
   "source": []
  }
 ],
 "metadata": {
  "kernelspec": {
   "display_name": "base",
   "language": "python",
   "name": "python3"
  },
  "language_info": {
   "codemirror_mode": {
    "name": "ipython",
    "version": 3
   },
   "file_extension": ".py",
   "mimetype": "text/x-python",
   "name": "python",
   "nbconvert_exporter": "python",
   "pygments_lexer": "ipython3",
   "version": "3.12.2"
  }
 },
 "nbformat": 4,
 "nbformat_minor": 2
}
