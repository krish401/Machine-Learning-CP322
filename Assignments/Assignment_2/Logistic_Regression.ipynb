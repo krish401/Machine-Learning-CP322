{
 "cells": [
  {
   "cell_type": "code",
   "execution_count": 131,
   "metadata": {},
   "outputs": [],
   "source": [
    "import pandas as pd\n",
    "import numpy as np\n",
    "import math"
   ]
  },
  {
   "cell_type": "code",
   "execution_count": 132,
   "metadata": {},
   "outputs": [
    {
     "data": {
      "text/plain": [
       "array([[1, 0, 0, 0],\n",
       "       [1, 0, 1, 0],\n",
       "       [1, 1, 0, 0],\n",
       "       [1, 1, 1, 1]])"
      ]
     },
     "execution_count": 132,
     "metadata": {},
     "output_type": "execute_result"
    }
   ],
   "source": [
    "X = np.array([[1,0,0,0],\n",
    "              [1,0,1,0],\n",
    "              [1,1,0,0],\n",
    "              [1,1,1,1]])\n",
    "X\n",
    "\n"
   ]
  },
  {
   "cell_type": "code",
   "execution_count": 133,
   "metadata": {},
   "outputs": [
    {
     "data": {
      "text/plain": [
       "array([0, 1, 1, 0])"
      ]
     },
     "execution_count": 133,
     "metadata": {},
     "output_type": "execute_result"
    }
   ],
   "source": [
    "target = np.array([0,1,1,0])\n",
    "target"
   ]
  },
  {
   "cell_type": "code",
   "execution_count": 134,
   "metadata": {},
   "outputs": [
    {
     "data": {
      "text/plain": [
       "array([-0.6,  2. ,  1.2, -2.8])"
      ]
     },
     "execution_count": 134,
     "metadata": {},
     "output_type": "execute_result"
    }
   ],
   "source": [
    "weights = np.array([-0.6, 2, 1.2, -2.8])\n",
    "weights"
   ]
  },
  {
   "cell_type": "code",
   "execution_count": 135,
   "metadata": {},
   "outputs": [],
   "source": [
    "def sigmoid_function(z):\n",
    "    result = 1/ (1 + math.e**(-z))\n",
    "    return result"
   ]
  },
  {
   "cell_type": "code",
   "execution_count": 136,
   "metadata": {},
   "outputs": [],
   "source": [
    "def loss_function(y, t):\n",
    "    result = -(t * np.log(y) + (1 - t) * np.log(1 - y))\n",
    "    return result"
   ]
  },
  {
   "cell_type": "code",
   "execution_count": 137,
   "metadata": {},
   "outputs": [],
   "source": [
    "def gradient(y, t, X, alpha):\n",
    "    result = alpha * np.dot(X.T, (y - t)) / len(t)\n",
    "    return result"
   ]
  },
  {
   "cell_type": "code",
   "execution_count": null,
   "metadata": {},
   "outputs": [
    {
     "name": "stdout",
     "output_type": "stream",
     "text": [
      "i, Weights, z-value, y-value, loss-value\n",
      "0.\n",
      " Weights: [-0.60630875  1.99369125  1.19760444 -2.81125415] \n",
      " Z-value:[-0.6  0.6  1.4 -0.2],\n",
      " Y-value[0.35434369 0.64565631 0.80218389 0.450166  ],\n",
      " Loss_value:[0.43748795 0.43748795 0.22041741 0.59813887]\n",
      "\n",
      "1.\n",
      " Weights: [-0.61231903  1.98759507  1.19542105 -2.82234598] \n",
      " Z-value:[-0.60630875  0.59129569  1.38738251 -0.2262672 ],\n",
      " Y-value[0.35290168 0.64366238 0.80017405 0.44367331],\n",
      " Loss_value:[0.43525704 0.44058094 0.22292602 0.58639958]\n",
      "\n",
      "2.\n",
      " Weights: [-0.61804304  1.98170385  1.19344109 -2.83328143] \n",
      " Z-value:[-0.61231903  0.58310202  1.37527604 -0.2516489 ],\n",
      " Y-value[0.35153038 0.64178087 0.79823124 0.43741769],\n",
      " Loss_value:[0.43314012 0.44350836 0.22535695 0.57521783]\n",
      "\n",
      "3.\n",
      " Weights: [-0.62349252  1.97601023  1.19165612 -2.84406619] \n",
      " Z-value:[-0.61804304  0.57539805  1.36366081 -0.27617953],\n",
      " Y-value[0.35022666 0.64000781 0.79635403 0.43139066],\n",
      " Loss_value:[0.43113169 0.4462749  0.22771143 0.56456166]\n",
      "\n",
      "4.\n",
      " Weights: [-0.62867881  1.97050711  1.19005805 -2.85470579] \n",
      " Z-value:[-0.62349252  0.56816361  1.35251771 -0.29989236],\n",
      " Y-value[0.34898755 0.63833933 0.79454094 0.4255838 ],\n",
      " Loss_value:[0.42922651 0.44888527 0.22999077 0.55440105]\n",
      "\n",
      "5.\n",
      " Weights: [-0.63361283  1.96518763  1.18863904 -2.86520551] \n",
      " Z-value:[-0.62867881  0.56137924  1.3418283  -0.32281944],\n",
      " Y-value[0.34781017 0.63677161 0.79279044 0.41998878],\n",
      " Loss_value:[0.42741962 0.45134423 0.23219635 0.54470784]\n",
      "\n",
      "6.\n",
      " Weights: [-0.63830511  1.96004517  1.18739158 -2.87557044] \n",
      " Z-value:[-0.63361283  0.5550262   1.3315748  -0.34499167],\n",
      " Y-value[0.34669179 0.63530092 0.79110101 0.41459745],\n",
      " Loss_value:[0.42570627 0.4536565  0.23432963 0.53545555]\n",
      "\n",
      "7.\n",
      " Weights: [-0.64276577  1.95507335  1.18630844 -2.88580549] \n",
      " Z-value:[-0.63830511  0.54908647  1.32174006 -0.36643881],\n",
      " Y-value[0.34562977 0.63392362 0.78947106 0.40940181],\n",
      " Loss_value:[0.42408199 0.45582681 0.2363921  0.52661937]\n",
      "\n",
      "8.\n",
      " Weights: [-0.64700454  1.95026602  1.18538269 -2.89591534] \n",
      " Z-value:[-0.64276577  0.54354267  1.31230758 -0.38718947],\n",
      " Y-value[0.3446216  0.63263615 0.78789904 0.40439406],\n",
      " Loss_value:[0.4225425  0.45785983 0.23838532 0.51817601]\n",
      "\n",
      "9.\n",
      " Weights: [-0.65103079  1.94561727  1.18460764 -2.9059045 ] \n",
      " Z-value:[-0.64700454  0.53837815  1.30326148 -0.40727117],\n",
      " Y-value[0.34366487 0.63143505 0.78638337 0.39956662],\n",
      " Loss_value:[0.42108376 0.45976019 0.24031085 0.51010359]\n",
      "\n"
     ]
    }
   ],
   "source": [
    "alpha = 0.1 # learning rate\n",
    "iterations = 10\n",
    "print(f'i, Weights, z-value, y-value, loss-value')\n",
    "\n",
    "for i in range(iterations):\n",
    "    Z = np.dot(X, weights)\n",
    "    sigmoid = sigmoid_function(Z)\n",
    "    loss = loss_function(sigmoid, target)\n",
    "    gradient_value = gradient(sigmoid, target, X, alpha)\n",
    "    weights -= gradient_value\n",
    "    # print(gradient_value)\n",
    "    print(f'{i}.\\n Weights: {weights} \\n Z-value:{Z},\\n Y-value{sigmoid},\\n Loss_value:{loss}\\n')\n",
    "    \n",
    "\n",
    "\n",
    "\n",
    "## IF YOU ARE RUNNING THE CODE MAKE SURE YOU RESENT THE WEIGHTS BY RUNNING CELL 4 AGAIN.\n",
    "## OTHERWISE THE W WILL KEEP GETTING UPDATED WITHOUT GOING BACK TO THE ORIGINAL FORM IF YOU WANT TO RUN AGAIN\n",
    "\n",
    "\n"
   ]
  },
  {
   "cell_type": "code",
   "execution_count": null,
   "metadata": {},
   "outputs": [],
   "source": []
  },
  {
   "cell_type": "code",
   "execution_count": null,
   "metadata": {},
   "outputs": [],
   "source": []
  },
  {
   "cell_type": "code",
   "execution_count": null,
   "metadata": {},
   "outputs": [],
   "source": []
  },
  {
   "cell_type": "code",
   "execution_count": null,
   "metadata": {},
   "outputs": [],
   "source": []
  },
  {
   "cell_type": "code",
   "execution_count": null,
   "metadata": {},
   "outputs": [],
   "source": []
  }
 ],
 "metadata": {
  "kernelspec": {
   "display_name": "base",
   "language": "python",
   "name": "python3"
  },
  "language_info": {
   "codemirror_mode": {
    "name": "ipython",
    "version": 3
   },
   "file_extension": ".py",
   "mimetype": "text/x-python",
   "name": "python",
   "nbconvert_exporter": "python",
   "pygments_lexer": "ipython3",
   "version": "3.12.2"
  }
 },
 "nbformat": 4,
 "nbformat_minor": 2
}
