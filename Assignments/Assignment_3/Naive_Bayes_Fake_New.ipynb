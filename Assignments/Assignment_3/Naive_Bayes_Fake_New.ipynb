{
 "cells": [
  {
   "cell_type": "code",
   "execution_count": 2,
   "metadata": {},
   "outputs": [
    {
     "name": "stdout",
     "output_type": "stream",
     "text": [
      "Accuracy: 0.7898\n"
     ]
    },
    {
     "data": {
      "image/png": "[encoded data removed]",
      "text/plain": [
       "<Figure size 600x400 with 2 Axes>"
      ]
     },
     "metadata": {},
     "output_type": "display_data"
    }
   ],
   "source": [
    "import numpy as np\n",
    "import pandas as pd\n",
    "import matplotlib.pyplot as plt\n",
    "import seaborn as sns\n",
    "from sklearn.feature_extraction.text import CountVectorizer\n",
    "from sklearn.model_selection import train_test_split\n",
    "from sklearn.metrics import accuracy_score, confusion_matrix\n",
    "\n",
    "# Step (a): Load and Vectorize Data\n",
    "def load_data(real_file='dataset/real.txt', fake_file='dataset/fake.txt'):\n",
    "    with open(real_file, 'r', encoding='utf-8') as f:\n",
    "        real_news = f.readlines()\n",
    "    with open(fake_file, 'r', encoding='utf-8') as f:\n",
    "        fake_news = f.readlines()\n",
    "    \n",
    "    labels = np.array([1] * len(real_news) + [0] * len(fake_news))  # 1 for real, 0 for fake\n",
    "    texts = np.array(real_news + fake_news)\n",
    "    \n",
    "    vectorizer = CountVectorizer()\n",
    "    X = vectorizer.fit_transform(texts)  # Convert text to numerical feature vectors\n",
    "    \n",
    "    return X, labels, vectorizer, texts\n",
    "\n",
    "# Step (b): Remove Uninformative Words\n",
    "def filter_words(X, vectorizer, texts, min_freq=0.005, max_freq=0.7):\n",
    "    total_samples = X.shape[0]\n",
    "    word_freq = np.array((X > 0).sum(axis=0)).flatten() / total_samples\n",
    "    \n",
    "    mask = (word_freq > min_freq) & (word_freq < max_freq)\n",
    "    filtered_features = np.array(vectorizer.get_feature_names_out())[mask]\n",
    "    \n",
    "    new_vectorizer = CountVectorizer(vocabulary=filtered_features)\n",
    "    X_filtered = new_vectorizer.fit_transform(texts)\n",
    "    \n",
    "    return X_filtered, new_vectorizer\n",
    "\n",
    "# Step (c): Implement Naïve Bayes Classifier\n",
    "def naive_bayes_train(X_train, y_train):\n",
    "    total_real = np.sum(y_train == 1)\n",
    "    total_fake = np.sum(y_train == 0)\n",
    "    \n",
    "    prior_real = total_real / len(y_train)\n",
    "    prior_fake = total_fake / len(y_train)\n",
    "    \n",
    "    real_counts = np.array(X_train[y_train == 1].sum(axis=0)).flatten() + 1  # Laplace smoothing\n",
    "    fake_counts = np.array(X_train[y_train == 0].sum(axis=0)).flatten() + 1\n",
    "    \n",
    "    total_words_real = real_counts.sum()\n",
    "    total_words_fake = fake_counts.sum()\n",
    "    \n",
    "    likelihood_real = real_counts / total_words_real\n",
    "    likelihood_fake = fake_counts / total_words_fake\n",
    "    \n",
    "    return prior_real, prior_fake, likelihood_real, likelihood_fake\n",
    "\n",
    "# Step (c): Predict using Naïve Bayes\n",
    "def naive_bayes_predict(X_test, prior_real, prior_fake, likelihood_real, likelihood_fake):\n",
    "    log_prob_real = X_test @ np.log(likelihood_real) + np.log(prior_real)\n",
    "    log_prob_fake = X_test @ np.log(likelihood_fake) + np.log(prior_fake)\n",
    "    return (log_prob_real > log_prob_fake).astype(int)\n",
    "\n",
    "# Load Data\n",
    "X, y, vectorizer, texts = load_data()\n",
    "X, vectorizer = filter_words(X, vectorizer, texts)\n",
    "X_train, X_test, y_train, y_test = train_test_split(X, y, test_size=0.3, random_state=42)\n",
    "\n",
    "# Train Model\n",
    "prior_real, prior_fake, likelihood_real, likelihood_fake = naive_bayes_train(X_train, y_train)\n",
    "\n",
    "# Predict on Test Set\n",
    "y_pred = naive_bayes_predict(X_test, prior_real, prior_fake, likelihood_real, likelihood_fake)\n",
    "\n",
    "# Evaluate Performance\n",
    "accuracy = accuracy_score(y_test, y_pred)\n",
    "cm = confusion_matrix(y_test, y_pred)\n",
    "print(f'Accuracy: {accuracy:.4f}')\n",
    "\n",
    "# Confusion Matrix Visualization\n",
    "plt.figure(figsize=(6,4))\n",
    "sns.heatmap(cm, annot=True, fmt='d', cmap='Blues', xticklabels=['Fake', 'Real'], yticklabels=['Fake', 'Real'])\n",
    "plt.xlabel('Predicted')\n",
    "plt.ylabel('Actual')\n",
    "plt.title('Confusion Matrix')\n",
    "plt.show()\n"
   ]
  },
  {
   "cell_type": "code",
   "execution_count": null,
   "metadata": {},
   "outputs": [],
   "source": []
  }
 ],
 "metadata": {
  "kernelspec": {
   "display_name": "base",
   "language": "python",
   "name": "python3"
  },
  "language_info": {
   "codemirror_mode": {
    "name": "ipython",
    "version": 3
   },
   "file_extension": ".py",
   "mimetype": "text/x-python",
   "name": "python",
   "nbconvert_exporter": "python",
   "pygments_lexer": "ipython3",
   "version": "3.12.2"
  }
 },
 "nbformat": 4,
 "nbformat_minor": 2
}
