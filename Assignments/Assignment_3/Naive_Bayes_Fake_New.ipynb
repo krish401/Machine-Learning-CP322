{
 "cells": [
  {
   "cell_type": "code",
   "execution_count": 16,
   "metadata": {},
   "outputs": [],
   "source": [
    "import numpy as np\n",
    "import pandas as pd\n",
    "import matplotlib.pyplot as plt\n",
    "import seaborn as sns\n",
    "from sklearn.feature_extraction.text import CountVectorizer\n",
    "from sklearn.model_selection import train_test_split\n",
    "from sklearn.metrics import accuracy_score, confusion_matrix, ConfusionMatrixDisplay"
   ]
  },
  {
   "cell_type": "code",
   "execution_count": null,
   "metadata": {},
   "outputs": [],
   "source": [
    "#Load the data\n",
    "def load_data(real_file='real.txt', fake_file='fake.txt'):\n",
    "    with open(real_file, 'r', encoding='utf-8') as f:\n",
    "        real_news = f.readlines()\n",
    "    with open(fake_file, 'r', encoding='utf-8') as f:\n",
    "        fake_news = f.readlines()\n",
    "    \n",
    "    labels = np.array([1] * len(real_news) + [0] * len(fake_news))  \n",
    "    texts = np.array(real_news + fake_news)\n",
    "    \n",
    "    vectorizer = CountVectorizer()\n",
    "    X = vectorizer.fit_transform(texts)  \n",
    "    \n",
    "    return X, labels, vectorizer, texts"
   ]
  },
  {
   "cell_type": "code",
   "execution_count": 17,
   "metadata": {},
   "outputs": [],
   "source": [
    "# Filter the data\n",
    "def filter_words(X, vectorizer, texts, min_freq=0.005, max_freq=0.7):\n",
    "    total_samples = X.shape[0]\n",
    "    word_freq = np.array((X > 0).sum(axis=0)).flatten() / total_samples\n",
    "    \n",
    "    mask = (word_freq > min_freq) & (word_freq < max_freq)\n",
    "    filtered_features = np.array(vectorizer.get_feature_names_out())[mask]\n",
    "    \n",
    "    new_vectorizer = CountVectorizer(vocabulary=filtered_features)\n",
    "    X_filtered = new_vectorizer.fit_transform(texts)\n",
    "    \n",
    "    return X_filtered, new_vectorizer"
   ]
  },
  {
   "cell_type": "code",
   "execution_count": 18,
   "metadata": {},
   "outputs": [],
   "source": [
    "# IMplemeent Naive Bayes Classifer\n",
    "def naive_bayes_train(X_train, y_train):\n",
    "    total_real = np.sum(y_train == 1)\n",
    "    total_fake = np.sum(y_train == 0)\n",
    "    \n",
    "    prior_real = total_real / len(y_train)\n",
    "    prior_fake = total_fake / len(y_train)\n",
    "    \n",
    "    real_counts = np.array(X_train[y_train == 1].sum(axis=0)).flatten() + 1  # Laplace smoothing\n",
    "    fake_counts = np.array(X_train[y_train == 0].sum(axis=0)).flatten() + 1\n",
    "    \n",
    "    total_words_real = real_counts.sum()\n",
    "    total_words_fake = fake_counts.sum()\n",
    "    \n",
    "    likelihood_real = real_counts / total_words_real\n",
    "    likelihood_fake = fake_counts / total_words_fake\n",
    "    \n",
    "    return prior_real, prior_fake, likelihood_real, likelihood_fake"
   ]
  },
  {
   "cell_type": "code",
   "execution_count": 19,
   "metadata": {},
   "outputs": [],
   "source": [
    "# Predicting\n",
    "\n",
    "def naive_bayes_predict(X_test, prior_real, prior_fake, likelihood_real, likelihood_fake):\n",
    "    X_test_array = X_test.toarray()  # Convert sparse matrix to dense array\n",
    "    \n",
    "    log_likelihood_real = np.log(likelihood_real)\n",
    "    log_likelihood_fake = np.log(likelihood_fake)\n",
    "    \n",
    "    log_prob_real = np.sum(X_test_array * log_likelihood_real, axis=1) + np.log(prior_real)\n",
    "    log_prob_fake = np.sum(X_test_array * log_likelihood_fake, axis=1) + np.log(prior_fake)\n",
    "    \n",
    "    return (log_prob_real > log_prob_fake).astype(int)"
   ]
  },
  {
   "cell_type": "code",
   "execution_count": 20,
   "metadata": {},
   "outputs": [
    {
     "name": "stdout",
     "output_type": "stream",
     "text": [
      "Accuracy: 0.7898\n"
     ]
    },
    {
     "data": {
      "image/png": "[encoded data removed]",
      "text/plain": [
       "<Figure size 640x480 with 2 Axes>"
      ]
     },
     "metadata": {},
     "output_type": "display_data"
    }
   ],
   "source": [
    "#Load\n",
    "X, y, vectorizer, texts = load_data()\n",
    "X, vectorizer = filter_words(X, vectorizer, texts)\n",
    "X_train, X_test, y_train, y_test = train_test_split(X, y, test_size=0.3, random_state=42)\n",
    "\n",
    "# train\n",
    "prior_real, prior_fake, likelihood_real, likelihood_fake = naive_bayes_train(X_train, y_train)\n",
    "\n",
    "#predict\n",
    "y_pred = naive_bayes_predict(X_test, prior_real, prior_fake, likelihood_real, likelihood_fake)\n",
    "\n",
    "# Evalute\n",
    "accuracy = accuracy_score(y_test, y_pred)\n",
    "cm = confusion_matrix(y_test, y_pred)\n",
    "print(f'Accuracy: {accuracy:.4f}')\n",
    "\n",
    "# Confusion Matrix\n",
    "labels = ['Fake', 'Real']\n",
    "disp = ConfusionMatrixDisplay(confusion_matrix=cm, display_labels=labels)\n",
    "disp.plot(cmap='Blues')\n",
    "plt.title('Confusion Matrix')\n",
    "plt.show()"
   ]
  },
  {
   "cell_type": "code",
   "execution_count": null,
   "metadata": {},
   "outputs": [],
   "source": []
  },
  {
   "cell_type": "code",
   "execution_count": null,
   "metadata": {},
   "outputs": [],
   "source": []
  },
  {
   "cell_type": "code",
   "execution_count": null,
   "metadata": {},
   "outputs": [],
   "source": []
  },
  {
   "cell_type": "code",
   "execution_count": null,
   "metadata": {},
   "outputs": [],
   "source": []
  }
 ],
 "metadata": {
  "kernelspec": {
   "display_name": "base",
   "language": "python",
   "name": "python3"
  },
  "language_info": {
   "codemirror_mode": {
    "name": "ipython",
    "version": 3
   },
   "file_extension": ".py",
   "mimetype": "text/x-python",
   "name": "python",
   "nbconvert_exporter": "python",
   "pygments_lexer": "ipython3",
   "version": "3.12.2"
  }
 },
 "nbformat": 4,
 "nbformat_minor": 2
}
