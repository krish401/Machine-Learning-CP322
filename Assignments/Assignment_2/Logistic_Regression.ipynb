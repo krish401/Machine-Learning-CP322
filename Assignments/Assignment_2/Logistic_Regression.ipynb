{
 "cells": [
  {
   "cell_type": "code",
   "execution_count": 22,
   "metadata": {},
   "outputs": [],
   "source": [
    "import pandas as pd\n",
    "import numpy as np"
   ]
  },
  {
   "cell_type": "code",
   "execution_count": 23,
   "metadata": {},
   "outputs": [
    {
     "data": {
      "text/plain": [
       "array([[1, 0, 0, 0],\n",
       "       [1, 0, 1, 0],\n",
       "       [1, 1, 0, 0],\n",
       "       [1, 1, 1, 1]])"
      ]
     },
     "execution_count": 23,
     "metadata": {},
     "output_type": "execute_result"
    }
   ],
   "source": [
    "X = np.array([[1,0,0,0],[1,0,1,0],[1,1,0,0],[1,1,1,1]])\n",
    "X\n",
    "\n"
   ]
  },
  {
   "cell_type": "code",
   "execution_count": 24,
   "metadata": {},
   "outputs": [
    {
     "data": {
      "text/plain": [
       "array([0, 1, 1, 0])"
      ]
     },
     "execution_count": 24,
     "metadata": {},
     "output_type": "execute_result"
    }
   ],
   "source": [
    "target = np.array([0,1,1,0])\n",
    "target"
   ]
  },
  {
   "cell_type": "code",
   "execution_count": 25,
   "metadata": {},
   "outputs": [
    {
     "data": {
      "text/plain": [
       "array([-0.6,  2. ,  1.2, -2.8])"
      ]
     },
     "execution_count": 25,
     "metadata": {},
     "output_type": "execute_result"
    }
   ],
   "source": [
    "weights = np.array([-0.6, 2, 1.2, -2.8])\n",
    "weights"
   ]
  },
  {
   "cell_type": "code",
   "execution_count": 26,
   "metadata": {},
   "outputs": [],
   "source": [
    "def sigmoid_function(z):\n",
    "    result = 1/ (1 + np.exp(-z))\n",
    "    return result"
   ]
  },
  {
   "cell_type": "code",
   "execution_count": 27,
   "metadata": {},
   "outputs": [],
   "source": [
    "def loss_function(y, t):\n",
    "    result = -np.mean(t*np.log(y) + (1-t)*np.log(1-y))\n",
    "    return result"
   ]
  },
  {
   "cell_type": "code",
   "execution_count": 28,
   "metadata": {},
   "outputs": [],
   "source": [
    "def gradient(y, t, X, alpha):\n",
    "    result = alpha * np.dot(X.T, (y - t)) / len(t)\n",
    "    return result"
   ]
  },
  {
   "cell_type": "code",
   "execution_count": 36,
   "metadata": {},
   "outputs": [
    {
     "name": "stdout",
     "output_type": "stream",
     "text": [
      "i, z-value, y-value, loss-value\n",
      "0. [ 0.8807462  -1.25102206 -0.52404878 -2.82835531], [0.70697683 0.22252327 0.37190598 0.055811  ], 0.9441925819174679\n",
      "1. [ 0.92776921 -1.23437569 -0.51113698 -2.82975059], [0.71662249 0.22541649 0.37492703 0.05573752], 0.9472889439374806\n",
      "2. [ 0.97426272 -1.21779798 -0.49829703 -2.83114402], [0.72596833 0.2283242  0.37794096 0.05566423], 0.9504477844877695\n",
      "3. [ 1.02023384 -1.2012893  -0.48552877 -2.83253563], [0.73501815 0.23124594 0.38094744 0.05559113], 0.9536643364268226\n",
      "4. [ 1.0656896  -1.18485    -0.47283201 -2.83392541], [0.74377633 0.23418127 0.38394616 0.05551821], 0.9569340276224911\n",
      "5. [ 1.110637   -1.16848045 -0.46020658 -2.83531336], [0.75224785 0.23712976 0.38693682 0.05544547], 0.9602524789269016\n",
      "6. [ 1.15508293 -1.15218096 -0.44765227 -2.8366995 ], [0.76043811 0.24009095 0.3899191  0.05537292], 0.9636155012339616\n",
      "7. [ 1.19903418 -1.13595188 -0.43516889 -2.83808382], [0.76835292 0.24306438 0.39289273 0.05530056], 0.9670190917676257\n",
      "8. [ 1.24249745 -1.11979352 -0.42275624 -2.83946634], [0.77599843 0.24604959 0.39585739 0.05522838], 0.9704594297362135\n",
      "9. [ 1.2854793  -1.10370618 -0.41041409 -2.84084705], [0.78338103 0.24904611 0.39881283 0.05515638], 0.9739328714751659\n"
     ]
    }
   ],
   "source": [
    "alpha = 0.1 # learning rate\n",
    "iterations = 10\n",
    "\n",
    "print(f'i, z-value, y-value, loss-value')\n",
    "\n",
    "for i in range(iterations):\n",
    "    Z = np.dot(weights, X)\n",
    "    sigmoid = sigmoid_function(Z)\n",
    "    loss = loss_function(sigmoid, target)\n",
    "    gradient_value = gradient(sigmoid, target, X, alpha)\n",
    "    weights -= gradient_value\n",
    "    # print(gradient_value)\n",
    "    print(f'{i}. {Z}, {sigmoid}, {loss}')\n",
    "    \n",
    "\n",
    "\n",
    "\n",
    "\n"
   ]
  },
  {
   "cell_type": "code",
   "execution_count": null,
   "metadata": {},
   "outputs": [],
   "source": []
  },
  {
   "cell_type": "code",
   "execution_count": null,
   "metadata": {},
   "outputs": [],
   "source": []
  },
  {
   "cell_type": "code",
   "execution_count": null,
   "metadata": {},
   "outputs": [],
   "source": []
  },
  {
   "cell_type": "code",
   "execution_count": null,
   "metadata": {},
   "outputs": [],
   "source": []
  },
  {
   "cell_type": "code",
   "execution_count": null,
   "metadata": {},
   "outputs": [],
   "source": []
  }
 ],
 "metadata": {
  "kernelspec": {
   "display_name": "base",
   "language": "python",
   "name": "python3"
  },
  "language_info": {
   "codemirror_mode": {
    "name": "ipython",
    "version": 3
   },
   "file_extension": ".py",
   "mimetype": "text/x-python",
   "name": "python",
   "nbconvert_exporter": "python",
   "pygments_lexer": "ipython3",
   "version": "3.12.2"
  }
 },
 "nbformat": 4,
 "nbformat_minor": 2
}
