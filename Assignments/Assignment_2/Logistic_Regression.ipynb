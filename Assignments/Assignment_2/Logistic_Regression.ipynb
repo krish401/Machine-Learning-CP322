{
 "cells": [
  {
   "cell_type": "code",
   "execution_count": 37,
   "metadata": {},
   "outputs": [],
   "source": [
    "import pandas as pd\n",
    "import numpy as np"
   ]
  },
  {
   "cell_type": "code",
   "execution_count": 38,
   "metadata": {},
   "outputs": [
    {
     "data": {
      "text/plain": [
       "array([[1, 0, 0, 0],\n",
       "       [1, 0, 1, 0],\n",
       "       [1, 1, 0, 0],\n",
       "       [1, 1, 1, 1]])"
      ]
     },
     "execution_count": 38,
     "metadata": {},
     "output_type": "execute_result"
    }
   ],
   "source": [
    "X = np.array([[1,0,0,0],\n",
    "              [1,0,1,0],\n",
    "              [1,1,0,0],\n",
    "              [1,1,1,1]])\n",
    "X\n",
    "\n"
   ]
  },
  {
   "cell_type": "code",
   "execution_count": 39,
   "metadata": {},
   "outputs": [
    {
     "data": {
      "text/plain": [
       "array([0, 1, 1, 0])"
      ]
     },
     "execution_count": 39,
     "metadata": {},
     "output_type": "execute_result"
    }
   ],
   "source": [
    "target = np.array([0,1,1,0])\n",
    "target"
   ]
  },
  {
   "cell_type": "code",
   "execution_count": 40,
   "metadata": {},
   "outputs": [
    {
     "data": {
      "text/plain": [
       "array([-0.6,  2. ,  1.2, -2.8])"
      ]
     },
     "execution_count": 40,
     "metadata": {},
     "output_type": "execute_result"
    }
   ],
   "source": [
    "weights = np.array([-0.6, 2, 1.2, -2.8])\n",
    "weights"
   ]
  },
  {
   "cell_type": "code",
   "execution_count": 41,
   "metadata": {},
   "outputs": [],
   "source": [
    "def sigmoid_function(z):\n",
    "    result = 1/ (1 + np.exp(-z))\n",
    "    return result"
   ]
  },
  {
   "cell_type": "code",
   "execution_count": 42,
   "metadata": {},
   "outputs": [],
   "source": [
    "def loss_function(y, t):\n",
    "    result = -(t * np.log(y) + (1 - t) * np.log(1 - y))\n",
    "    return result"
   ]
  },
  {
   "cell_type": "code",
   "execution_count": 43,
   "metadata": {},
   "outputs": [],
   "source": [
    "def gradient(y, t, X, alpha):\n",
    "    result = alpha * np.dot(X.T, (y - t)) / len(t)\n",
    "    return result"
   ]
  },
  {
   "cell_type": "code",
   "execution_count": 44,
   "metadata": {},
   "outputs": [
    {
     "name": "stdout",
     "output_type": "stream",
     "text": [
      "i, z-value, y-value, loss-value\n",
      "weights: [-0.6  2.   1.2 -2.8]\n",
      "0.\n",
      " Z-value:[-0.2 -1.6 -0.8 -2.8],\n",
      " Y-value[0.450166   0.16798161 0.31002552 0.05732418],\n",
      " Loss_value:[0.59813887 1.78390074 1.17110067 0.05903283]\n",
      "\n",
      "weights: [-0.57463743  2.01581626  1.21936736 -2.8014331 ]\n",
      "1.\n",
      " Z-value:[-0.14088692 -1.58206575 -0.78561685 -2.8014331 ],\n",
      " Y-value[0.46483641 0.17050312 0.31311059 0.05724678],\n",
      " Loss_value:[0.62518281 1.76900168 1.16119882 0.05895073]\n",
      "\n",
      "weights: [-0.54977986  2.03155732  1.23867361 -2.80286427]\n",
      "2.\n",
      " Z-value:[-0.0824132  -1.56419067 -0.77130695 -2.80286427],\n",
      " Y-value[0.47940835 0.17304614 0.31619645 0.05716959],\n",
      " Loss_value:[0.65278933 1.75419704 1.15139157 0.05886886]\n",
      "\n",
      "weights: [-0.52542537  2.04722317  1.25791821 -2.80429351]\n",
      "3.\n",
      " Z-value:[-0.0245775  -1.5463753  -0.75707034 -2.80429351],\n",
      " Y-value[0.49385594 0.1756104  0.31928266 0.0570926 ],\n",
      " Loss_value:[0.68093394 1.73948735 1.14167847 0.0587872 ]\n",
      "\n",
      "weights: [-0.50157141  2.06281379  1.27710064 -2.80572083]\n",
      "4.\n",
      " Z-value:[ 0.03262219 -1.52862019 -0.74290704 -2.80572083],\n",
      " Y-value[0.50815482 0.17819566 0.32236878 0.05701581],\n",
      " Loss_value:[0.7095913  1.72487313 1.1320591  0.05870577]\n",
      "\n",
      "weights: [-0.47821479  2.07832918  1.29622035 -2.80714622]\n",
      "5.\n",
      " Z-value:[ 0.08918852 -1.51092587 -0.72881705 -2.80714622],\n",
      " Y-value[0.52228236 0.18080162 0.32545437 0.05693923],\n",
      " Loss_value:[0.73873543 1.71035487 1.12253301 0.05862455]\n",
      "\n",
      "weights: [-0.45535173  2.09376934  1.31527683 -2.8085697 ]\n",
      "6.\n",
      " Z-value:[ 0.14512474 -1.49329287 -0.71480037 -2.8085697 ],\n",
      " Y-value[0.53621764 0.183428   0.328539   0.05686284],\n",
      " Loss_value:[0.76833989 1.69593306 1.11309972 0.05854355]\n",
      "\n",
      "weights: [-0.43297791  2.10913429  1.33426956 -2.80999128]\n",
      "7.\n",
      " Z-value:[ 0.20043466 -1.47572172 -0.70085699 -2.80999128],\n",
      " Y-value[0.54994158 0.1860745  0.33162225 0.05678665],\n",
      " Loss_value:[0.79837788 1.68160815 1.10375876 0.05846277]\n",
      "\n",
      "weights: [-0.41108854  2.12442407  1.35319803 -2.81141094]\n",
      "8.\n",
      " Z-value:[ 0.25512262 -1.45821291 -0.68698687 -2.81141094],\n",
      " Y-value[0.56343695 0.18874081 0.33470369 0.05671066],\n",
      " Loss_value:[0.82882247 1.66738059 1.09450964 0.05838221]\n",
      "\n",
      "weights: [-0.38967834  2.13963871  1.37206175 -2.81282871]\n",
      "9.\n",
      " Z-value:[ 0.30919341 -1.44076696 -0.67319    -2.81282871],\n",
      " Y-value[0.57668837 0.19142661 0.33778291 0.05663486],\n",
      " Loss_value:[0.85964665 1.65325079 1.08535185 0.05830186]\n",
      "\n"
     ]
    }
   ],
   "source": [
    "alpha = 0.1 # learning rate\n",
    "iterations = 10\n",
    "print(f'i, z-value, y-value, loss-value')\n",
    "\n",
    "for i in range(iterations):\n",
    "    print(f'weights: {weights}')\n",
    "    Z = np.dot(weights, X)\n",
    "    sigmoid = sigmoid_function(Z)\n",
    "    loss = loss_function(sigmoid, target)\n",
    "    gradient_value = gradient(sigmoid, target, X, alpha)\n",
    "    weights -= gradient_value\n",
    "    # print(gradient_value)\n",
    "    print(f'{i}.\\n Z-value:{Z},\\n Y-value{sigmoid},\\n Loss_value:{loss}\\n')\n",
    "    \n",
    "\n",
    "\n",
    "\n",
    "\n"
   ]
  },
  {
   "cell_type": "code",
   "execution_count": null,
   "metadata": {},
   "outputs": [],
   "source": []
  },
  {
   "cell_type": "code",
   "execution_count": null,
   "metadata": {},
   "outputs": [],
   "source": []
  },
  {
   "cell_type": "code",
   "execution_count": null,
   "metadata": {},
   "outputs": [],
   "source": []
  },
  {
   "cell_type": "code",
   "execution_count": null,
   "metadata": {},
   "outputs": [],
   "source": []
  },
  {
   "cell_type": "code",
   "execution_count": null,
   "metadata": {},
   "outputs": [],
   "source": []
  }
 ],
 "metadata": {
  "kernelspec": {
   "display_name": "base",
   "language": "python",
   "name": "python3"
  },
  "language_info": {
   "codemirror_mode": {
    "name": "ipython",
    "version": 3
   },
   "file_extension": ".py",
   "mimetype": "text/x-python",
   "name": "python",
   "nbconvert_exporter": "python",
   "pygments_lexer": "ipython3",
   "version": "3.12.2"
  }
 },
 "nbformat": 4,
 "nbformat_minor": 2
}
